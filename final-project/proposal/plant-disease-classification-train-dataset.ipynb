{
 "cells": [
  {
   "cell_type": "code",
   "execution_count": 1,
   "id": "a48ac090",
   "metadata": {
    "_cell_guid": "b1076dfc-b9ad-4769-8c92-a6c4dae69d19",
    "_uuid": "8f2839f25d086af736a60e9eeb907d3b93b6e0e5",
    "execution": {
     "iopub.execute_input": "2024-09-16T15:35:06.534780Z",
     "iopub.status.busy": "2024-09-16T15:35:06.533819Z",
     "iopub.status.idle": "2024-09-16T15:35:07.382300Z",
     "shell.execute_reply": "2024-09-16T15:35:07.380807Z"
    },
    "papermill": {
     "duration": 0.864042,
     "end_time": "2024-09-16T15:35:07.384977",
     "exception": false,
     "start_time": "2024-09-16T15:35:06.520935",
     "status": "completed"
    },
    "tags": []
   },
   "outputs": [],
   "source": [
    "import os\n",
    "import shutil\n",
    "import numpy as np\n",
    "import pandas as pd\n",
    "from PIL import Image"
   ]
  },
  {
   "cell_type": "markdown",
   "id": "611ab144",
   "metadata": {
    "papermill": {
     "duration": 0.009758,
     "end_time": "2024-09-16T15:35:07.405041",
     "exception": false,
     "start_time": "2024-09-16T15:35:07.395283",
     "status": "completed"
    },
    "tags": []
   },
   "source": [
    "##### Merged Datasets\n",
    "The final dataset is created by mergin following datasets\n",
    "\n",
    "| Dataset                      | no of Samples | no of classes | Link                                                                                                 | Source                                                                                  |\n",
    "| ---------------------------- | ------------- | ------------- | ---------------------------------------------------------------------------------------------------- | --------------------------------------------------------------------------------------- |\n",
    "| Cassava Leaf Disease Dataset | 21400         | 5             | [Cassava Leaf Disease Dataset](https://tensorflow.google.cn/datasets/catalog/cassava)                | Ernest Mwebaze and Timnit Gebru and Andrea Frome and Solomon Nsumba and Jeremy Tusubira |\n",
    "| Rice Leaf Disease Images     | 5932          | 4             | [Rice Leaf Disease Images](https://data.mendeley.com/datasets/fwcj7stb8r/1)                          | Sethy, P. K., Barpanda, N. K., Rath, A. K., & Behera, S. K.                             |\n",
    "| PlantVillage                 | 54303         | 38            | [PlantVillage](https://www.tensorflow.org/datasets/catalog/plant_village)                            | David P. Hughes and Marcel Salath                                                       |\n",
    "| Potato Leaf Disease          | 4072          | 3             | [Potato Leaf Disease](https://www.mdpi.com/2079-9292/10/17/2064)                                     | images collected from the Central Punjab region of Pakistan                             |\n",
    "| Plant Pathelogy              | 2700          | 3             | [Plant Pathelogy](https://www.kaggle.com/c/plant-pathology-2020-fgvc7/data)                          |\n",
    "| ESCA-dataset                 | 1768          | 2             | [ESCA-dataset](https://data.mendeley.com/datasets/89cnxc58kj/1)                                      |                                                                                         |\n",
    "| Sugercane Leaf Image Dataset | 2569          | 5             | [Sugercane Leaf Image Dataset](https://data.mendeley.com/datasets/9424skmnrk/1)                      |\n",
    "| Potato Leaf Disease          | 1500          | 3             | [Potato Leaf Disease](https://www.kaggle.com/datasets/muhammadardiputra/potato-leaf-disease-dataset) |                                                                                         |\n",
    "|Grapes 400 |  1600| 4|[Grapes 400](https://figshare.com/articles/dataset/Healthy_and_Disease_affected_Leaves_of_Grape_Plant/13083890/1)||\n",
    "|Apple Tree Leaf Disease Dataset|1641|5|[Apple Tree Leaf Disease Dataset](https://www.scidb.cn/en/detail?dataSetId=0e1f57004db842f99668d82183afd578)||"
   ]
  },
  {
   "cell_type": "markdown",
   "id": "1cafa9b0",
   "metadata": {
    "papermill": {
     "duration": 0.010566,
     "end_time": "2024-09-16T15:35:07.425932",
     "exception": false,
     "start_time": "2024-09-16T15:35:07.415366",
     "status": "completed"
    },
    "tags": []
   },
   "source": [
    "## Functions"
   ]
  },
  {
   "cell_type": "code",
   "execution_count": 2,
   "id": "03976837",
   "metadata": {
    "execution": {
     "iopub.execute_input": "2024-09-16T15:35:07.448139Z",
     "iopub.status.busy": "2024-09-16T15:35:07.447638Z",
     "iopub.status.idle": "2024-09-16T15:35:07.455169Z",
     "shell.execute_reply": "2024-09-16T15:35:07.453726Z"
    },
    "papermill": {
     "duration": 0.021626,
     "end_time": "2024-09-16T15:35:07.457732",
     "exception": false,
     "start_time": "2024-09-16T15:35:07.436106",
     "status": "completed"
    },
    "tags": []
   },
   "outputs": [],
   "source": [
    "def create_folder(folder_path, folder_name):\n",
    "    try:\n",
    "        new_folder_path = os.path.join(folder_path, folder_name)\n",
    "        if not os.path.exists(new_folder_path):\n",
    "            os.makedirs(new_folder_path)\n",
    "            print(f\"Folder '{folder_name}' created at '{folder_path}'.\")\n",
    "        else:\n",
    "            print(f\"Folder '{folder_name}' already exists at '{folder_path}'.\")\n",
    "\n",
    "    except Exception as e:\n",
    "        print(f\"Error: {e}\")"
   ]
  },
  {
   "cell_type": "code",
   "execution_count": 3,
   "id": "ee86446e",
   "metadata": {
    "execution": {
     "iopub.execute_input": "2024-09-16T15:35:07.479847Z",
     "iopub.status.busy": "2024-09-16T15:35:07.479407Z",
     "iopub.status.idle": "2024-09-16T15:35:07.485677Z",
     "shell.execute_reply": "2024-09-16T15:35:07.484612Z"
    },
    "papermill": {
     "duration": 0.020095,
     "end_time": "2024-09-16T15:35:07.488178",
     "exception": false,
     "start_time": "2024-09-16T15:35:07.468083",
     "status": "completed"
    },
    "tags": []
   },
   "outputs": [],
   "source": [
    "def copy_folder(src_folder, dest_folder):\n",
    "    try:\n",
    "        shutil.copytree(src_folder, dest_folder)\n",
    "        print(f\"Folder '{src_folder}' successfully copied to '{dest_folder}'.\")\n",
    "    except shutil.Error as e:\n",
    "        print(f\"Error: {e}\")\n",
    "    except Exception as e:\n",
    "        print(f\"Error: {e}\")"
   ]
  },
  {
   "cell_type": "code",
   "execution_count": 4,
   "id": "363fbd09",
   "metadata": {
    "execution": {
     "iopub.execute_input": "2024-09-16T15:35:07.510799Z",
     "iopub.status.busy": "2024-09-16T15:35:07.509980Z",
     "iopub.status.idle": "2024-09-16T15:35:07.517823Z",
     "shell.execute_reply": "2024-09-16T15:35:07.516609Z"
    },
    "papermill": {
     "duration": 0.021514,
     "end_time": "2024-09-16T15:35:07.520161",
     "exception": false,
     "start_time": "2024-09-16T15:35:07.498647",
     "status": "completed"
    },
    "tags": []
   },
   "outputs": [],
   "source": [
    "def resize_manteniendo_proporcion(image, target_width=256, target_height=256):\n",
    "    try:\n",
    "        width, height = image.size\n",
    "        \n",
    "        if width < height:\n",
    "            new_height = int(target_width * (height / width))\n",
    "            new_width = target_width\n",
    "        else:\n",
    "            new_width = int(target_height * (width / height))\n",
    "            new_height = target_height\n",
    "\n",
    "        # Resize the image\n",
    "        resized_image = image.resize((new_width, new_height))\n",
    "        resized_image = resized_image.convert('RGB')\n",
    "        \n",
    "        return resized_image\n",
    "    except Exception as e:\n",
    "        print(f\"Error resizing image: {e}\")"
   ]
  },
  {
   "cell_type": "code",
   "execution_count": 5,
   "id": "d511a45d",
   "metadata": {
    "execution": {
     "iopub.execute_input": "2024-09-16T15:35:07.541966Z",
     "iopub.status.busy": "2024-09-16T15:35:07.541568Z",
     "iopub.status.idle": "2024-09-16T15:35:07.548177Z",
     "shell.execute_reply": "2024-09-16T15:35:07.547144Z"
    },
    "papermill": {
     "duration": 0.020356,
     "end_time": "2024-09-16T15:35:07.550625",
     "exception": false,
     "start_time": "2024-09-16T15:35:07.530269",
     "status": "completed"
    },
    "tags": []
   },
   "outputs": [],
   "source": [
    "def get_last_index(index_file):\n",
    "    if os.path.exists(index_file):\n",
    "        with open(index_file, 'r') as f:\n",
    "            return int(f.read().strip())\n",
    "    return 0\n",
    "\n",
    "def update_last_index(index_file, index):\n",
    "    with open(index_file, 'w') as f:\n",
    "        f.write(str(index))"
   ]
  },
  {
   "cell_type": "code",
   "execution_count": 6,
   "id": "1b7d8c59",
   "metadata": {
    "execution": {
     "iopub.execute_input": "2024-09-16T15:35:07.572499Z",
     "iopub.status.busy": "2024-09-16T15:35:07.572087Z",
     "iopub.status.idle": "2024-09-16T15:35:07.581688Z",
     "shell.execute_reply": "2024-09-16T15:35:07.580550Z"
    },
    "papermill": {
     "duration": 0.023244,
     "end_time": "2024-09-16T15:35:07.584038",
     "exception": false,
     "start_time": "2024-09-16T15:35:07.560794",
     "status": "completed"
    },
    "tags": []
   },
   "outputs": [],
   "source": [
    "def copy_files(src_folder, dest_folder, index_file):\n",
    "    try:\n",
    "        if not os.path.exists(dest_folder):\n",
    "            os.makedirs(dest_folder)\n",
    "        \n",
    "        current_index = get_last_index(index_file)\n",
    "        \n",
    "        supported_formats = ('.jpg', '.jpeg', '.png')\n",
    "\n",
    "        for filename in os.listdir(src_folder):\n",
    "            if filename.lower().endswith(supported_formats):\n",
    "                src_path = os.path.join(src_folder, filename)\n",
    "                dest_path = os.path.join(dest_folder, f\"{current_index}{os.path.splitext(filename)[1].lower()}\")\n",
    "                \n",
    "                with Image.open(src_path) as img:\n",
    "                    img = resize_manteniendo_proporcion(img)\n",
    "                    img.save(dest_path)\n",
    "                    \n",
    "                current_index += 1\n",
    "\n",
    "        update_last_index(index_file, current_index)\n",
    "        \n",
    "        print(f\"All eligible files from '{src_folder}' successfully resized and copied to '{dest_folder}'.\")\n",
    "        \n",
    "    except Exception as e:\n",
    "        print(f\"Error: {e}\")"
   ]
  },
  {
   "cell_type": "code",
   "execution_count": 7,
   "id": "5ebd0ed1",
   "metadata": {
    "execution": {
     "iopub.execute_input": "2024-09-16T15:35:07.606339Z",
     "iopub.status.busy": "2024-09-16T15:35:07.605927Z",
     "iopub.status.idle": "2024-09-16T15:35:07.611573Z",
     "shell.execute_reply": "2024-09-16T15:35:07.610475Z"
    },
    "papermill": {
     "duration": 0.019584,
     "end_time": "2024-09-16T15:35:07.614175",
     "exception": false,
     "start_time": "2024-09-16T15:35:07.594591",
     "status": "completed"
    },
    "tags": []
   },
   "outputs": [],
   "source": [
    "base_dir = \"/kaggle/working/data\"\n",
    "if not os.path.exists(base_dir):\n",
    "    os.makedirs(base_dir)"
   ]
  },
  {
   "cell_type": "code",
   "execution_count": 8,
   "id": "38103afe",
   "metadata": {
    "execution": {
     "iopub.execute_input": "2024-09-16T15:35:07.635904Z",
     "iopub.status.busy": "2024-09-16T15:35:07.635495Z",
     "iopub.status.idle": "2024-09-16T15:35:07.640980Z",
     "shell.execute_reply": "2024-09-16T15:35:07.639984Z"
    },
    "papermill": {
     "duration": 0.018876,
     "end_time": "2024-09-16T15:35:07.643255",
     "exception": false,
     "start_time": "2024-09-16T15:35:07.624379",
     "status": "completed"
    },
    "tags": []
   },
   "outputs": [],
   "source": [
    "base_dir = \"/kaggle/working/data\"\n",
    "index_file = \"/kaggle/working/index.txt\"\n",
    "if not os.path.exists(base_dir):\n",
    "    os.makedirs(base_dir)"
   ]
  },
  {
   "cell_type": "markdown",
   "id": "10ff2c9a",
   "metadata": {
    "papermill": {
     "duration": 0.009488,
     "end_time": "2024-09-16T15:35:07.663188",
     "exception": false,
     "start_time": "2024-09-16T15:35:07.653700",
     "status": "completed"
    },
    "tags": []
   },
   "source": [
    "## Folder List"
   ]
  },
  {
   "cell_type": "code",
   "execution_count": 9,
   "id": "84611891",
   "metadata": {
    "execution": {
     "iopub.execute_input": "2024-09-16T15:35:07.684890Z",
     "iopub.status.busy": "2024-09-16T15:35:07.684511Z",
     "iopub.status.idle": "2024-09-16T15:35:07.693078Z",
     "shell.execute_reply": "2024-09-16T15:35:07.692040Z"
    },
    "papermill": {
     "duration": 0.022551,
     "end_time": "2024-09-16T15:35:07.695391",
     "exception": false,
     "start_time": "2024-09-16T15:35:07.672840",
     "status": "completed"
    },
    "tags": []
   },
   "outputs": [],
   "source": [
    "folders = [\n",
    "    'Apple___scab', 'Apple___black_rot', 'Apple___rust', 'Apple___healthy', \n",
    "    'Apple___alternaria_leaf_spot', 'Apple___brown_spot', 'Apple___gray_spot', \n",
    "    \n",
    "    'Bell_pepper___bacterial_spot', 'Bell_pepper___healthy',\n",
    "    \n",
    "    'Blueberry___healthy',    \n",
    " \n",
    "    'Cassava___bacterial_blight', 'Cassava___brown_streak_disease', 'Cassava___green_mottle',\n",
    "    'Cassava___healthy', 'Cassava___mosaic_disease',     \n",
    "   \n",
    "    'Cherry___powdery_mildew', 'Cherry___healthy', 'Corn___gray_leaf_spot', \n",
    "    \n",
    "    'Corn___common_rust', 'Corn___northern_leaf_blight', 'Corn___healthy',    \n",
    "   \n",
    "    'Grape___black_rot', 'Grape___black_measles', 'Grape___isariopsis_leaf_spot', \n",
    "    'Grape___healthy', 'Grape_leaf_blight',\n",
    "    \n",
    "    'Orange___citrus_greening',\n",
    "    \n",
    "    'Peach___bacterial_spot', 'Peach___healthy',\n",
    "    \n",
    "    'Potato___early_blight', 'Potato___late_blight', 'Potato___healthy', 'Potato___bacterial_wilt', \n",
    "    'Potato___nematode', 'Potato___pests', 'Potato___phytophthora', 'Potato___virus',\n",
    "    \n",
    "    'Raspberry___healthy',\n",
    "    \n",
    "    'Rice___bacterial_blight', 'Rice___blast', 'Rice___brown_spot', 'Rice___tungro',\n",
    "    \n",
    "    'Soybean___healthy',\n",
    "    \n",
    "    'Squash___powdery_mildew',\n",
    "    \n",
    "    'Strawberry___leaf_scorch', 'Strawberry___healthy',\n",
    "    \n",
    "    'Sugercane___healthy', 'Sugercane___mosaic', 'Sugercane___red_rot', 'Sugercane___rust', \n",
    "    'Sugercane___yellow_leaf',\n",
    "    \n",
    "    'Tomato___bacterial_spot', 'Tomato___early_blight', 'Tomato___late_blight', \n",
    "    'Tomato___leaf_mold', 'Tomato___septoria_leaf_spot', 'Tomato___spider_mites',\n",
    "    'Tomato___target_spot', 'Tomato___leaf_curl', 'Tomato___mosaic_virus',\n",
    "    'Tomato___healthy',     \n",
    "    ]"
   ]
  },
  {
   "cell_type": "code",
   "execution_count": 10,
   "id": "6f2869a5",
   "metadata": {
    "execution": {
     "iopub.execute_input": "2024-09-16T15:35:07.716432Z",
     "iopub.status.busy": "2024-09-16T15:35:07.716049Z",
     "iopub.status.idle": "2024-09-16T15:35:07.724003Z",
     "shell.execute_reply": "2024-09-16T15:35:07.722939Z"
    },
    "papermill": {
     "duration": 0.021119,
     "end_time": "2024-09-16T15:35:07.726358",
     "exception": false,
     "start_time": "2024-09-16T15:35:07.705239",
     "status": "completed"
    },
    "tags": []
   },
   "outputs": [
    {
     "data": {
      "text/plain": [
       "61"
      ]
     },
     "execution_count": 10,
     "metadata": {},
     "output_type": "execute_result"
    }
   ],
   "source": [
    "len(folders)"
   ]
  },
  {
   "cell_type": "code",
   "execution_count": 11,
   "id": "c8d25d48",
   "metadata": {
    "execution": {
     "iopub.execute_input": "2024-09-16T15:35:07.749169Z",
     "iopub.status.busy": "2024-09-16T15:35:07.748294Z",
     "iopub.status.idle": "2024-09-16T15:35:07.759567Z",
     "shell.execute_reply": "2024-09-16T15:35:07.758169Z"
    },
    "papermill": {
     "duration": 0.025965,
     "end_time": "2024-09-16T15:35:07.762684",
     "exception": false,
     "start_time": "2024-09-16T15:35:07.736719",
     "status": "completed"
    },
    "tags": []
   },
   "outputs": [
    {
     "name": "stdout",
     "output_type": "stream",
     "text": [
      "Folder 'Apple___scab' created at '/kaggle/working/data'.\n",
      "Folder 'Apple___black_rot' created at '/kaggle/working/data'.\n",
      "Folder 'Apple___rust' created at '/kaggle/working/data'.\n",
      "Folder 'Apple___healthy' created at '/kaggle/working/data'.\n",
      "Folder 'Apple___alternaria_leaf_spot' created at '/kaggle/working/data'.\n",
      "Folder 'Apple___brown_spot' created at '/kaggle/working/data'.\n",
      "Folder 'Apple___gray_spot' created at '/kaggle/working/data'.\n",
      "Folder 'Bell_pepper___bacterial_spot' created at '/kaggle/working/data'.\n",
      "Folder 'Bell_pepper___healthy' created at '/kaggle/working/data'.\n",
      "Folder 'Blueberry___healthy' created at '/kaggle/working/data'.\n",
      "Folder 'Cassava___bacterial_blight' created at '/kaggle/working/data'.\n",
      "Folder 'Cassava___brown_streak_disease' created at '/kaggle/working/data'.\n",
      "Folder 'Cassava___green_mottle' created at '/kaggle/working/data'.\n",
      "Folder 'Cassava___healthy' created at '/kaggle/working/data'.\n",
      "Folder 'Cassava___mosaic_disease' created at '/kaggle/working/data'.\n",
      "Folder 'Cherry___powdery_mildew' created at '/kaggle/working/data'.\n",
      "Folder 'Cherry___healthy' created at '/kaggle/working/data'.\n",
      "Folder 'Corn___gray_leaf_spot' created at '/kaggle/working/data'.\n",
      "Folder 'Corn___common_rust' created at '/kaggle/working/data'.\n",
      "Folder 'Corn___northern_leaf_blight' created at '/kaggle/working/data'.\n",
      "Folder 'Corn___healthy' created at '/kaggle/working/data'.\n",
      "Folder 'Grape___black_rot' created at '/kaggle/working/data'.\n",
      "Folder 'Grape___black_measles' created at '/kaggle/working/data'.\n",
      "Folder 'Grape___isariopsis_leaf_spot' created at '/kaggle/working/data'.\n",
      "Folder 'Grape___healthy' created at '/kaggle/working/data'.\n",
      "Folder 'Grape_leaf_blight' created at '/kaggle/working/data'.\n",
      "Folder 'Orange___citrus_greening' created at '/kaggle/working/data'.\n",
      "Folder 'Peach___bacterial_spot' created at '/kaggle/working/data'.\n",
      "Folder 'Peach___healthy' created at '/kaggle/working/data'.\n",
      "Folder 'Potato___early_blight' created at '/kaggle/working/data'.\n",
      "Folder 'Potato___late_blight' created at '/kaggle/working/data'.\n",
      "Folder 'Potato___healthy' created at '/kaggle/working/data'.\n",
      "Folder 'Potato___bacterial_wilt' created at '/kaggle/working/data'.\n",
      "Folder 'Potato___nematode' created at '/kaggle/working/data'.\n",
      "Folder 'Potato___pests' created at '/kaggle/working/data'.\n",
      "Folder 'Potato___phytophthora' created at '/kaggle/working/data'.\n",
      "Folder 'Potato___virus' created at '/kaggle/working/data'.\n",
      "Folder 'Raspberry___healthy' created at '/kaggle/working/data'.\n",
      "Folder 'Rice___bacterial_blight' created at '/kaggle/working/data'.\n",
      "Folder 'Rice___blast' created at '/kaggle/working/data'.\n",
      "Folder 'Rice___brown_spot' created at '/kaggle/working/data'.\n",
      "Folder 'Rice___tungro' created at '/kaggle/working/data'.\n",
      "Folder 'Soybean___healthy' created at '/kaggle/working/data'.\n",
      "Folder 'Squash___powdery_mildew' created at '/kaggle/working/data'.\n",
      "Folder 'Strawberry___leaf_scorch' created at '/kaggle/working/data'.\n",
      "Folder 'Strawberry___healthy' created at '/kaggle/working/data'.\n",
      "Folder 'Sugercane___healthy' created at '/kaggle/working/data'.\n",
      "Folder 'Sugercane___mosaic' created at '/kaggle/working/data'.\n",
      "Folder 'Sugercane___red_rot' created at '/kaggle/working/data'.\n",
      "Folder 'Sugercane___rust' created at '/kaggle/working/data'.\n",
      "Folder 'Sugercane___yellow_leaf' created at '/kaggle/working/data'.\n",
      "Folder 'Tomato___bacterial_spot' created at '/kaggle/working/data'.\n",
      "Folder 'Tomato___early_blight' created at '/kaggle/working/data'.\n",
      "Folder 'Tomato___late_blight' created at '/kaggle/working/data'.\n",
      "Folder 'Tomato___leaf_mold' created at '/kaggle/working/data'.\n",
      "Folder 'Tomato___septoria_leaf_spot' created at '/kaggle/working/data'.\n",
      "Folder 'Tomato___spider_mites' created at '/kaggle/working/data'.\n",
      "Folder 'Tomato___target_spot' created at '/kaggle/working/data'.\n",
      "Folder 'Tomato___leaf_curl' created at '/kaggle/working/data'.\n",
      "Folder 'Tomato___mosaic_virus' created at '/kaggle/working/data'.\n",
      "Folder 'Tomato___healthy' created at '/kaggle/working/data'.\n"
     ]
    }
   ],
   "source": [
    "for folder in folders:\n",
    "    create_folder(base_dir, folder)"
   ]
  },
  {
   "cell_type": "markdown",
   "id": "3600e7aa",
   "metadata": {
    "papermill": {
     "duration": 0.010048,
     "end_time": "2024-09-16T15:35:07.783140",
     "exception": false,
     "start_time": "2024-09-16T15:35:07.773092",
     "status": "completed"
    },
    "tags": []
   },
   "source": [
    "## 1. Cassava Leaf Disease Dataset\n",
    "1. Cassava___bacterial_blight\n",
    "2. Cassava___brown_streak_disease\n",
    "3. Cassava___green_mottle\n",
    "4. Cassava___healthy\n",
    "5. Cassava___mosaic_disease"
   ]
  },
  {
   "cell_type": "code",
   "execution_count": 12,
   "id": "6b37f920",
   "metadata": {
    "execution": {
     "iopub.execute_input": "2024-09-16T15:35:07.806772Z",
     "iopub.status.busy": "2024-09-16T15:35:07.805949Z",
     "iopub.status.idle": "2024-09-16T15:41:22.118818Z",
     "shell.execute_reply": "2024-09-16T15:41:22.117500Z"
    },
    "papermill": {
     "duration": 374.337524,
     "end_time": "2024-09-16T15:41:22.131375",
     "exception": false,
     "start_time": "2024-09-16T15:35:07.793851",
     "status": "completed"
    },
    "tags": []
   },
   "outputs": [
    {
     "name": "stdout",
     "output_type": "stream",
     "text": [
      "All eligible files from '/kaggle/input/cassava-leaf-disease-classification/data/Cassava___bacterial_blight' successfully resized and copied to '/kaggle/working/data/Cassava___bacterial_blight'.\n",
      "All eligible files from '/kaggle/input/cassava-leaf-disease-classification/data/Cassava___brown_streak_disease' successfully resized and copied to '/kaggle/working/data/Cassava___brown_streak_disease'.\n",
      "All eligible files from '/kaggle/input/cassava-leaf-disease-classification/data/Cassava___green_mottle' successfully resized and copied to '/kaggle/working/data/Cassava___green_mottle'.\n",
      "All eligible files from '/kaggle/input/cassava-leaf-disease-classification/data/Cassava___healthy' successfully resized and copied to '/kaggle/working/data/Cassava___healthy'.\n",
      "All eligible files from '/kaggle/input/cassava-leaf-disease-classification/data/Cassava___mosaic_disease' successfully resized and copied to '/kaggle/working/data/Cassava___mosaic_disease'.\n"
     ]
    }
   ],
   "source": [
    "cassava_base = \"/kaggle/input/cassava-leaf-disease-classification/data\"\n",
    "cassava_class_list = ['Cassava___bacterial_blight', 'Cassava___brown_streak_disease', \n",
    "                      'Cassava___green_mottle', 'Cassava___healthy', \n",
    "                      'Cassava___mosaic_disease']\n",
    "for class_ in cassava_class_list:    \n",
    "    copy_files(f\"{cassava_base}/{class_}\", f\"{base_dir}/{class_}\", index_file)"
   ]
  },
  {
   "cell_type": "markdown",
   "id": "3089445e",
   "metadata": {
    "papermill": {
     "duration": 0.011056,
     "end_time": "2024-09-16T15:41:22.153189",
     "exception": false,
     "start_time": "2024-09-16T15:41:22.142133",
     "status": "completed"
    },
    "tags": []
   },
   "source": [
    "## 2. Rice Leaf Disease Images\n",
    "1. Rice___bacterial_blight\n",
    "1. Rice___blast\n",
    "1. Rice___brown_spot\n",
    "1. Rice___tungro"
   ]
  },
  {
   "cell_type": "code",
   "execution_count": 13,
   "id": "24854f55",
   "metadata": {
    "execution": {
     "iopub.execute_input": "2024-09-16T15:41:22.176622Z",
     "iopub.status.busy": "2024-09-16T15:41:22.176182Z",
     "iopub.status.idle": "2024-09-16T15:42:10.847708Z",
     "shell.execute_reply": "2024-09-16T15:42:10.846723Z"
    },
    "papermill": {
     "duration": 48.685891,
     "end_time": "2024-09-16T15:42:10.849981",
     "exception": false,
     "start_time": "2024-09-16T15:41:22.164090",
     "status": "completed"
    },
    "tags": []
   },
   "outputs": [
    {
     "name": "stdout",
     "output_type": "stream",
     "text": [
      "All eligible files from '/kaggle/input/rice-leaf-disease-image/Bacterialblight' successfully resized and copied to '/kaggle/working/data/Rice___bacterial_blight'.\n",
      "All eligible files from '/kaggle/input/rice-leaf-disease-image/Blast' successfully resized and copied to '/kaggle/working/data/Rice___blast'.\n",
      "All eligible files from '/kaggle/input/rice-leaf-disease-image/Brownspot' successfully resized and copied to '/kaggle/working/data/Rice___brown_spot'.\n",
      "All eligible files from '/kaggle/input/rice-leaf-disease-image/Tungro' successfully resized and copied to '/kaggle/working/data/Rice___tungro'.\n"
     ]
    }
   ],
   "source": [
    "rice_leaf_base = \"/kaggle/input/rice-leaf-disease-image\"\n",
    "rice_leaf_map={'Bacterialblight': 'Rice___bacterial_blight', \n",
    "                 'Blast': 'Rice___blast', \n",
    "                 'Brownspot': 'Rice___brown_spot', \n",
    "                 'Tungro': 'Rice___tungro'}\n",
    "for class_ in rice_leaf_map.keys():\n",
    "    copy_files(f\"{rice_leaf_base}/{class_}\", f\"{base_dir}/{rice_leaf_map[class_]}\", index_file)"
   ]
  },
  {
   "cell_type": "markdown",
   "id": "49dc797f",
   "metadata": {
    "papermill": {
     "duration": 0.010905,
     "end_time": "2024-09-16T15:42:10.872771",
     "exception": false,
     "start_time": "2024-09-16T15:42:10.861866",
     "status": "completed"
    },
    "tags": []
   },
   "source": [
    "## 3. PlantVillage\n",
    "1. Apple___Apple_scab\n",
    "1. Apple___Black_rot\n",
    "1. Apple___Cedar_apple_rust\n",
    "1. Apple___healthy\n",
    "1. Blueberry___healthy\n",
    "1. Cherry_(including_sour)___Powdery_mildew\n",
    "1. Cherry_(including_sour)___healthy\n",
    "1. Corn_(maize)___Cercospora_leaf_spot Gray_leaf_spot\n",
    "1. Corn_(maize)___Common_rust_\n",
    "1. Corn_(maize)___Northern_Leaf_Blight\n",
    "1. Corn_(maize)___healthy\n",
    "1. Grape___Black_rot\n",
    "1. Grape___Esca_(Black_Measles)\n",
    "1. Grape___Leaf_blight_(Isariopsis_Leaf_Spot)\n",
    "1. Grape___healthy\n",
    "1. Orange___Haunglongbing_(Citrus_greening)\n",
    "1. Peach___Bacterial_spot\n",
    "1. Peach___healthy\n",
    "1. Pepper,_bell___Bacterial_spot\n",
    "1. Pepper,_bell___healthy\n",
    "1. Potato___Early_blight\n",
    "1. Potato___Late_blight\n",
    "1. Potato___healthy\n",
    "1. Raspberry___healthy\n",
    "1. Soybean___healthy\n",
    "1. Squash___Powdery_mildew\n",
    "1. Strawberry___Leaf_scorch\n",
    "1. Strawberry___healthy\n",
    "1. Tomato___Bacterial_spot\n",
    "1. Tomato___Early_blight\n",
    "1. Tomato___Late_blight\n",
    "1. Tomato___Leaf_Mold\n",
    "1. Tomato___Septoria_leaf_spot\n",
    "1. Tomato___Spider_mites Two-spotted_spider_mite\n",
    "1. Tomato___Target_Spot\n",
    "1. Tomato___Tomato_Yellow_Leaf_Curl_Virus\n",
    "1. Tomato___Tomato_mosaic_virus\n",
    "1. Tomato___healthy"
   ]
  },
  {
   "cell_type": "code",
   "execution_count": 14,
   "id": "5ee4693d",
   "metadata": {
    "execution": {
     "iopub.execute_input": "2024-09-16T15:42:10.896441Z",
     "iopub.status.busy": "2024-09-16T15:42:10.896052Z",
     "iopub.status.idle": "2024-09-16T15:46:59.238357Z",
     "shell.execute_reply": "2024-09-16T15:46:59.236604Z"
    },
    "papermill": {
     "duration": 288.357593,
     "end_time": "2024-09-16T15:46:59.241327",
     "exception": false,
     "start_time": "2024-09-16T15:42:10.883734",
     "status": "completed"
    },
    "tags": []
   },
   "outputs": [
    {
     "name": "stdout",
     "output_type": "stream",
     "text": [
      "All eligible files from '/kaggle/input/plantvillage-dataset/color/Apple___Apple_scab' successfully resized and copied to '/kaggle/working/data/Apple___scab'.\n",
      "All eligible files from '/kaggle/input/plantvillage-dataset/color/Apple___Black_rot' successfully resized and copied to '/kaggle/working/data/Apple___black_rot'.\n",
      "All eligible files from '/kaggle/input/plantvillage-dataset/color/Apple___Cedar_apple_rust' successfully resized and copied to '/kaggle/working/data/Apple___rust'.\n",
      "All eligible files from '/kaggle/input/plantvillage-dataset/color/Apple___healthy' successfully resized and copied to '/kaggle/working/data/Apple___healthy'.\n",
      "All eligible files from '/kaggle/input/plantvillage-dataset/color/Blueberry___healthy' successfully resized and copied to '/kaggle/working/data/Blueberry___healthy'.\n",
      "All eligible files from '/kaggle/input/plantvillage-dataset/color/Cherry_(including_sour)___Powdery_mildew' successfully resized and copied to '/kaggle/working/data/Cherry___powdery_mildew'.\n",
      "All eligible files from '/kaggle/input/plantvillage-dataset/color/Cherry_(including_sour)___healthy' successfully resized and copied to '/kaggle/working/data/Cherry___healthy'.\n",
      "All eligible files from '/kaggle/input/plantvillage-dataset/color/Corn_(maize)___Cercospora_leaf_spot Gray_leaf_spot' successfully resized and copied to '/kaggle/working/data/Corn___gray_leaf_spot'.\n",
      "All eligible files from '/kaggle/input/plantvillage-dataset/color/Corn_(maize)___Common_rust_' successfully resized and copied to '/kaggle/working/data/Corn___common_rust'.\n",
      "All eligible files from '/kaggle/input/plantvillage-dataset/color/Corn_(maize)___Northern_Leaf_Blight' successfully resized and copied to '/kaggle/working/data/Corn___northern_leaf_blight'.\n",
      "All eligible files from '/kaggle/input/plantvillage-dataset/color/Corn_(maize)___healthy' successfully resized and copied to '/kaggle/working/data/Corn___healthy'.\n",
      "All eligible files from '/kaggle/input/plantvillage-dataset/color/Grape___Black_rot' successfully resized and copied to '/kaggle/working/data/Grape___black_rot'.\n",
      "All eligible files from '/kaggle/input/plantvillage-dataset/color/Grape___Esca_(Black_Measles)' successfully resized and copied to '/kaggle/working/data/Grape___black_measles'.\n",
      "All eligible files from '/kaggle/input/plantvillage-dataset/color/Grape___Leaf_blight_(Isariopsis_Leaf_Spot)' successfully resized and copied to '/kaggle/working/data/Grape___Leaf_blight'.\n",
      "All eligible files from '/kaggle/input/plantvillage-dataset/color/Grape___healthy' successfully resized and copied to '/kaggle/working/data/Grape___healthy'.\n",
      "All eligible files from '/kaggle/input/plantvillage-dataset/color/Orange___Haunglongbing_(Citrus_greening)' successfully resized and copied to '/kaggle/working/data/Orange___citrus_greening'.\n",
      "All eligible files from '/kaggle/input/plantvillage-dataset/color/Peach___Bacterial_spot' successfully resized and copied to '/kaggle/working/data/Peach___bacterial_spot'.\n",
      "All eligible files from '/kaggle/input/plantvillage-dataset/color/Peach___healthy' successfully resized and copied to '/kaggle/working/data/Peach___healthy'.\n",
      "All eligible files from '/kaggle/input/plantvillage-dataset/color/Pepper,_bell___Bacterial_spot' successfully resized and copied to '/kaggle/working/data/Bell_pepper___bacterial_spot'.\n",
      "All eligible files from '/kaggle/input/plantvillage-dataset/color/Pepper,_bell___healthy' successfully resized and copied to '/kaggle/working/data/Bell_pepper___healthy'.\n",
      "All eligible files from '/kaggle/input/plantvillage-dataset/color/Potato___Early_blight' successfully resized and copied to '/kaggle/working/data/Potato___early_blight'.\n",
      "All eligible files from '/kaggle/input/plantvillage-dataset/color/Potato___Late_blight' successfully resized and copied to '/kaggle/working/data/Potato___late_blight'.\n",
      "All eligible files from '/kaggle/input/plantvillage-dataset/color/Potato___healthy' successfully resized and copied to '/kaggle/working/data/Potato___healthy'.\n",
      "All eligible files from '/kaggle/input/plantvillage-dataset/color/Raspberry___healthy' successfully resized and copied to '/kaggle/working/data/Raspberry___healthy'.\n",
      "All eligible files from '/kaggle/input/plantvillage-dataset/color/Soybean___healthy' successfully resized and copied to '/kaggle/working/data/Soybean___healthy'.\n",
      "All eligible files from '/kaggle/input/plantvillage-dataset/color/Squash___Powdery_mildew' successfully resized and copied to '/kaggle/working/data/Squash___powdery_mildew'.\n",
      "All eligible files from '/kaggle/input/plantvillage-dataset/color/Strawberry___Leaf_scorch' successfully resized and copied to '/kaggle/working/data/Strawberry___leaf_scorch'.\n",
      "All eligible files from '/kaggle/input/plantvillage-dataset/color/Strawberry___healthy' successfully resized and copied to '/kaggle/working/data/Strawberry___healthy'.\n",
      "All eligible files from '/kaggle/input/plantvillage-dataset/color/Tomato___Bacterial_spot' successfully resized and copied to '/kaggle/working/data/Tomato___bacterial_spot'.\n",
      "All eligible files from '/kaggle/input/plantvillage-dataset/color/Tomato___Early_blight' successfully resized and copied to '/kaggle/working/data/Tomato___early_blight'.\n",
      "All eligible files from '/kaggle/input/plantvillage-dataset/color/Tomato___Late_blight' successfully resized and copied to '/kaggle/working/data/Tomato___late_blight'.\n",
      "All eligible files from '/kaggle/input/plantvillage-dataset/color/Tomato___Leaf_Mold' successfully resized and copied to '/kaggle/working/data/Tomato___leaf_mold'.\n",
      "All eligible files from '/kaggle/input/plantvillage-dataset/color/Tomato___Septoria_leaf_spot' successfully resized and copied to '/kaggle/working/data/Tomato___septoria_leaf_spot'.\n",
      "All eligible files from '/kaggle/input/plantvillage-dataset/color/Tomato___Spider_mites Two-spotted_spider_mite' successfully resized and copied to '/kaggle/working/data/Tomato___spider_mites'.\n",
      "All eligible files from '/kaggle/input/plantvillage-dataset/color/Tomato___Target_Spot' successfully resized and copied to '/kaggle/working/data/Tomato___target_spot'.\n",
      "All eligible files from '/kaggle/input/plantvillage-dataset/color/Tomato___Tomato_Yellow_Leaf_Curl_Virus' successfully resized and copied to '/kaggle/working/data/Tomato___leaf_curl'.\n",
      "All eligible files from '/kaggle/input/plantvillage-dataset/color/Tomato___Tomato_mosaic_virus' successfully resized and copied to '/kaggle/working/data/Tomato___mosaic_virus'.\n",
      "All eligible files from '/kaggle/input/plantvillage-dataset/color/Tomato___healthy' successfully resized and copied to '/kaggle/working/data/Tomato___healthy'.\n"
     ]
    }
   ],
   "source": [
    "plant_village_base = \"/kaggle/input/plantvillage-dataset/color\"\n",
    "plant_village_map = {\n",
    "    'Apple___Apple_scab': 'Apple___scab',\n",
    "    'Apple___Black_rot': 'Apple___black_rot',\n",
    "    'Apple___Cedar_apple_rust': 'Apple___rust',\n",
    "    'Apple___healthy': 'Apple___healthy',\n",
    "    'Blueberry___healthy': 'Blueberry___healthy',\n",
    "    'Cherry_(including_sour)___Powdery_mildew': 'Cherry___powdery_mildew',\n",
    "    'Cherry_(including_sour)___healthy': 'Cherry___healthy',\n",
    "    'Corn_(maize)___Cercospora_leaf_spot Gray_leaf_spot': 'Corn___gray_leaf_spot',\n",
    "    'Corn_(maize)___Common_rust_': 'Corn___common_rust',\n",
    "    'Corn_(maize)___Northern_Leaf_Blight': 'Corn___northern_leaf_blight',\n",
    "    'Corn_(maize)___healthy': 'Corn___healthy',\n",
    "    'Grape___Black_rot': 'Grape___black_rot',\n",
    "    'Grape___Esca_(Black_Measles)': 'Grape___black_measles',\n",
    "    'Grape___Leaf_blight_(Isariopsis_Leaf_Spot)': 'Grape___Leaf_blight',\n",
    "    'Grape___healthy': 'Grape___healthy',\n",
    "    'Orange___Haunglongbing_(Citrus_greening)': 'Orange___citrus_greening',\n",
    "    'Peach___Bacterial_spot': 'Peach___bacterial_spot',\n",
    "    'Peach___healthy': 'Peach___healthy',\n",
    "    'Pepper,_bell___Bacterial_spot': 'Bell_pepper___bacterial_spot',\n",
    "    'Pepper,_bell___healthy': 'Bell_pepper___healthy',\n",
    "    'Potato___Early_blight': 'Potato___early_blight',\n",
    "    'Potato___Late_blight': 'Potato___late_blight',\n",
    "    'Potato___healthy': 'Potato___healthy',\n",
    "    'Raspberry___healthy': 'Raspberry___healthy',\n",
    "    'Soybean___healthy': 'Soybean___healthy',\n",
    "    'Squash___Powdery_mildew': 'Squash___powdery_mildew',\n",
    "    'Strawberry___Leaf_scorch': 'Strawberry___leaf_scorch',\n",
    "    'Strawberry___healthy': 'Strawberry___healthy',\n",
    "    'Tomato___Bacterial_spot': 'Tomato___bacterial_spot',\n",
    "    'Tomato___Early_blight': 'Tomato___early_blight',\n",
    "    'Tomato___Late_blight': 'Tomato___late_blight',\n",
    "    'Tomato___Leaf_Mold': 'Tomato___leaf_mold',\n",
    "    'Tomato___Septoria_leaf_spot': 'Tomato___septoria_leaf_spot',\n",
    "    'Tomato___Spider_mites Two-spotted_spider_mite': 'Tomato___spider_mites',\n",
    "    'Tomato___Target_Spot': 'Tomato___target_spot',\n",
    "    'Tomato___Tomato_Yellow_Leaf_Curl_Virus': 'Tomato___leaf_curl',\n",
    "    'Tomato___Tomato_mosaic_virus': 'Tomato___mosaic_virus',\n",
    "    'Tomato___healthy': 'Tomato___healthy'    \n",
    "}\n",
    "\n",
    "for class_ in plant_village_map.keys():\n",
    "    copy_files(f\"{plant_village_base}/{class_}\", f\"{base_dir}/{plant_village_map[class_]}\", index_file)"
   ]
  },
  {
   "cell_type": "markdown",
   "id": "f549ec2b",
   "metadata": {
    "papermill": {
     "duration": 0.014652,
     "end_time": "2024-09-16T15:46:59.271043",
     "exception": false,
     "start_time": "2024-09-16T15:46:59.256391",
     "status": "completed"
    },
    "tags": []
   },
   "source": [
    "## 4. Potatoe Leaf Disease\n",
    "1. Potato___early_blight\n",
    "1. Potato___late_blight\n",
    "1. Potato___healthy"
   ]
  },
  {
   "cell_type": "code",
   "execution_count": 15,
   "id": "41cb2233",
   "metadata": {
    "execution": {
     "iopub.execute_input": "2024-09-16T15:46:59.302515Z",
     "iopub.status.busy": "2024-09-16T15:46:59.302072Z",
     "iopub.status.idle": "2024-09-16T15:47:18.699418Z",
     "shell.execute_reply": "2024-09-16T15:47:18.698302Z"
    },
    "papermill": {
     "duration": 19.416344,
     "end_time": "2024-09-16T15:47:18.702121",
     "exception": false,
     "start_time": "2024-09-16T15:46:59.285777",
     "status": "completed"
    },
    "tags": []
   },
   "outputs": [
    {
     "name": "stdout",
     "output_type": "stream",
     "text": [
      "All eligible files from '/kaggle/input/potato-leaf-diseases/EarlyBlight' successfully resized and copied to '/kaggle/working/data/Potato___early_blight'.\n",
      "All eligible files from '/kaggle/input/potato-leaf-diseases/Healthy' successfully resized and copied to '/kaggle/working/data/Potato___late_blight'.\n",
      "All eligible files from '/kaggle/input/potato-leaf-diseases/LateBlight' successfully resized and copied to '/kaggle/working/data/Potato___healthy'.\n"
     ]
    }
   ],
   "source": [
    "potatoe_leaf_base = \"/kaggle/input/potato-leaf-diseases\"\n",
    "potatoe_leaf_map={\n",
    "    'EarlyBlight': 'Potato___early_blight', \n",
    "    'Healthy': 'Potato___late_blight',\n",
    "    'LateBlight': 'Potato___healthy'}\n",
    "for class_ in potatoe_leaf_map.keys():\n",
    "    copy_files(f\"{potatoe_leaf_base}/{class_}\", f\"{base_dir}/{potatoe_leaf_map[class_]}\", index_file)"
   ]
  },
  {
   "cell_type": "markdown",
   "id": "d2c99085",
   "metadata": {
    "papermill": {
     "duration": 0.015856,
     "end_time": "2024-09-16T15:47:18.734409",
     "exception": false,
     "start_time": "2024-09-16T15:47:18.718553",
     "status": "completed"
    },
    "tags": []
   },
   "source": [
    "## 5. Plant Pathelogy\n",
    "1. Apple___scab\n",
    "2. Apple___cedar_rust\n",
    "3. Apple___healthy"
   ]
  },
  {
   "cell_type": "code",
   "execution_count": 16,
   "id": "1b471296",
   "metadata": {
    "execution": {
     "iopub.execute_input": "2024-09-16T15:47:18.767529Z",
     "iopub.status.busy": "2024-09-16T15:47:18.766848Z",
     "iopub.status.idle": "2024-09-16T15:48:50.698791Z",
     "shell.execute_reply": "2024-09-16T15:48:50.697477Z"
    },
    "papermill": {
     "duration": 91.966022,
     "end_time": "2024-09-16T15:48:50.716101",
     "exception": false,
     "start_time": "2024-09-16T15:47:18.750079",
     "status": "completed"
    },
    "tags": []
   },
   "outputs": [
    {
     "name": "stdout",
     "output_type": "stream",
     "text": [
      "All eligible files from '/kaggle/input/apple-leaf-disease-dataset/data/healthy' successfully resized and copied to '/kaggle/working/data/Apple___healthy'.\n",
      "All eligible files from '/kaggle/input/apple-leaf-disease-dataset/data/rust' successfully resized and copied to '/kaggle/working/data/Apple___rust'.\n",
      "All eligible files from '/kaggle/input/apple-leaf-disease-dataset/data/scab' successfully resized and copied to '/kaggle/working/data/Apple___scab'.\n"
     ]
    }
   ],
   "source": [
    "plant_pathelogy_base = \"/kaggle/input/apple-leaf-disease-dataset/data\"\n",
    "plant_pathelogy_map={\n",
    "    'healthy': 'Apple___healthy', \n",
    "    'rust': 'Apple___rust',\n",
    "    'scab': 'Apple___scab'}\n",
    "for class_ in plant_pathelogy_map.keys():\n",
    "    copy_files(f\"{plant_pathelogy_base}/{class_}\", f\"{base_dir}/{plant_pathelogy_map[class_]}\", index_file)"
   ]
  },
  {
   "cell_type": "markdown",
   "id": "30f0706d",
   "metadata": {
    "papermill": {
     "duration": 0.014812,
     "end_time": "2024-09-16T15:48:50.746147",
     "exception": false,
     "start_time": "2024-09-16T15:48:50.731335",
     "status": "completed"
    },
    "tags": []
   },
   "source": [
    "## 6. ESCA (grapes black measles) dataset\n",
    "1. Grape___healthy\n",
    "1. Grape___black_measles"
   ]
  },
  {
   "cell_type": "code",
   "execution_count": 17,
   "id": "f19dbd7c",
   "metadata": {
    "execution": {
     "iopub.execute_input": "2024-09-16T15:48:50.778612Z",
     "iopub.status.busy": "2024-09-16T15:48:50.778126Z",
     "iopub.status.idle": "2024-09-16T15:50:19.766603Z",
     "shell.execute_reply": "2024-09-16T15:50:19.765479Z"
    },
    "papermill": {
     "duration": 89.022937,
     "end_time": "2024-09-16T15:50:19.784225",
     "exception": false,
     "start_time": "2024-09-16T15:48:50.761288",
     "status": "completed"
    },
    "tags": []
   },
   "outputs": [
    {
     "name": "stdout",
     "output_type": "stream",
     "text": [
      "All eligible files from '/kaggle/input/esca-grapes-black-measles-dataset/esca' successfully resized and copied to '/kaggle/working/data/Grape___black_measles'.\n",
      "All eligible files from '/kaggle/input/esca-grapes-black-measles-dataset/healthy' successfully resized and copied to '/kaggle/working/data/Grape___healthy'.\n"
     ]
    }
   ],
   "source": [
    "esca_base = \"/kaggle/input/esca-grapes-black-measles-dataset\"\n",
    "esca_map={\n",
    "    'esca': 'Grape___black_measles', \n",
    "    'healthy': 'Grape___healthy'}\n",
    "for class_ in esca_map.keys():\n",
    "    copy_files(f\"{esca_base}/{class_}\", f\"{base_dir}/{esca_map[class_]}\", index_file)"
   ]
  },
  {
   "cell_type": "markdown",
   "id": "3f8a8e76",
   "metadata": {
    "papermill": {
     "duration": 0.014922,
     "end_time": "2024-09-16T15:50:19.814443",
     "exception": false,
     "start_time": "2024-09-16T15:50:19.799521",
     "status": "completed"
    },
    "tags": []
   },
   "source": [
    "## 7. Sugercane Leaf Disease Dataset\n",
    "1. Sugercane___healthy\n",
    "1. Sugercane___mosaic\n",
    "1. Sugercane___red_rot\n",
    "1. Sugercane___rust\n",
    "1. Sugercane___yellow_leaf"
   ]
  },
  {
   "cell_type": "code",
   "execution_count": 18,
   "id": "4760ac29",
   "metadata": {
    "execution": {
     "iopub.execute_input": "2024-09-16T15:50:19.846866Z",
     "iopub.status.busy": "2024-09-16T15:50:19.846432Z",
     "iopub.status.idle": "2024-09-16T15:51:24.922513Z",
     "shell.execute_reply": "2024-09-16T15:51:24.921331Z"
    },
    "papermill": {
     "duration": 65.095561,
     "end_time": "2024-09-16T15:51:24.925267",
     "exception": false,
     "start_time": "2024-09-16T15:50:19.829706",
     "status": "completed"
    },
    "tags": []
   },
   "outputs": [
    {
     "name": "stdout",
     "output_type": "stream",
     "text": [
      "All eligible files from '/kaggle/input/sugarcane-leaf-disease-dataset/Healthy' successfully resized and copied to '/kaggle/working/data/Sugercane___healthy'.\n",
      "All eligible files from '/kaggle/input/sugarcane-leaf-disease-dataset/Mosaic' successfully resized and copied to '/kaggle/working/data/Sugercane___mosaic'.\n",
      "All eligible files from '/kaggle/input/sugarcane-leaf-disease-dataset/RedRot' successfully resized and copied to '/kaggle/working/data/Sugercane___red_rot'.\n",
      "All eligible files from '/kaggle/input/sugarcane-leaf-disease-dataset/Rust' successfully resized and copied to '/kaggle/working/data/Sugercane___rust'.\n",
      "All eligible files from '/kaggle/input/sugarcane-leaf-disease-dataset/Yellow' successfully resized and copied to '/kaggle/working/data/Sugercane___yellow_leaf'.\n"
     ]
    }
   ],
   "source": [
    "sugercane_base = \"/kaggle/input/sugarcane-leaf-disease-dataset\"\n",
    "sugercane_map={\n",
    "    'Healthy': 'Sugercane___healthy', \n",
    "    'Mosaic': 'Sugercane___mosaic',\n",
    "    'RedRot': 'Sugercane___red_rot',\n",
    "    'Rust': 'Sugercane___rust',\n",
    "    'Yellow': 'Sugercane___yellow_leaf'\n",
    "}\n",
    "for class_ in sugercane_map.keys():\n",
    "    copy_files(f\"{sugercane_base}/{class_}\", f\"{base_dir}/{sugercane_map[class_]}\", index_file)"
   ]
  },
  {
   "cell_type": "markdown",
   "id": "f9598db9",
   "metadata": {
    "papermill": {
     "duration": 0.016031,
     "end_time": "2024-09-16T15:51:24.958386",
     "exception": false,
     "start_time": "2024-09-16T15:51:24.942355",
     "status": "completed"
    },
    "tags": []
   },
   "source": [
    "## 8. Potatoe Leaf Disease Dataset"
   ]
  },
  {
   "cell_type": "code",
   "execution_count": 19,
   "id": "8c471166",
   "metadata": {
    "execution": {
     "iopub.execute_input": "2024-09-16T15:51:24.992398Z",
     "iopub.status.busy": "2024-09-16T15:51:24.991999Z",
     "iopub.status.idle": "2024-09-16T15:53:12.220583Z",
     "shell.execute_reply": "2024-09-16T15:53:12.219165Z"
    },
    "papermill": {
     "duration": 107.264626,
     "end_time": "2024-09-16T15:53:12.239279",
     "exception": false,
     "start_time": "2024-09-16T15:51:24.974653",
     "status": "completed"
    },
    "tags": []
   },
   "outputs": [
    {
     "name": "stdout",
     "output_type": "stream",
     "text": [
      "All eligible files from '/kaggle/input/potato-leaf-disease-dataset/Bacteria' successfully resized and copied to '/kaggle/working/data/Potato___bacterial_wilt'.\n",
      "All eligible files from '/kaggle/input/potato-leaf-disease-dataset/Healthy' successfully resized and copied to '/kaggle/working/data/Potato___healthy'.\n",
      "All eligible files from '/kaggle/input/potato-leaf-disease-dataset/Nematode' successfully resized and copied to '/kaggle/working/data/Potato___nematode'.\n",
      "All eligible files from '/kaggle/input/potato-leaf-disease-dataset/Pest' successfully resized and copied to '/kaggle/working/data/Potato___pests'.\n",
      "All eligible files from '/kaggle/input/potato-leaf-disease-dataset/Phytopthora' successfully resized and copied to '/kaggle/working/data/Potato___phytophthora'.\n",
      "All eligible files from '/kaggle/input/potato-leaf-disease-dataset/Virus' successfully resized and copied to '/kaggle/working/data/Potato___virus'.\n"
     ]
    }
   ],
   "source": [
    "potatoe_base_1 = \"/kaggle/input/potato-leaf-disease-dataset\"\n",
    "potatoe_map_1={\n",
    "    'Bacteria': 'Potato___bacterial_wilt', \n",
    "    'Healthy': 'Potato___healthy',\n",
    "    'Nematode': 'Potato___nematode',\n",
    "    'Pest': 'Potato___pests',\n",
    "    'Phytopthora': 'Potato___phytophthora',\n",
    "    'Virus': 'Potato___virus'\n",
    "}\n",
    "for class_ in potatoe_map_1.keys():\n",
    "    copy_files(f\"{potatoe_base_1}/{class_}\", f\"{base_dir}/{potatoe_map_1[class_]}\", index_file)"
   ]
  },
  {
   "cell_type": "markdown",
   "id": "5218a865",
   "metadata": {
    "papermill": {
     "duration": 0.01678,
     "end_time": "2024-09-16T15:53:12.272870",
     "exception": false,
     "start_time": "2024-09-16T15:53:12.256090",
     "status": "completed"
    },
    "tags": []
   },
   "source": [
    "## 9. Grape400 Dataset"
   ]
  },
  {
   "cell_type": "code",
   "execution_count": 20,
   "id": "9c03454e",
   "metadata": {
    "execution": {
     "iopub.execute_input": "2024-09-16T15:53:12.309024Z",
     "iopub.status.busy": "2024-09-16T15:53:12.307730Z",
     "iopub.status.idle": "2024-09-16T15:53:24.319173Z",
     "shell.execute_reply": "2024-09-16T15:53:24.318004Z"
    },
    "papermill": {
     "duration": 12.032494,
     "end_time": "2024-09-16T15:53:24.321949",
     "exception": false,
     "start_time": "2024-09-16T15:53:12.289455",
     "status": "completed"
    },
    "tags": []
   },
   "outputs": [
    {
     "name": "stdout",
     "output_type": "stream",
     "text": [
      "All eligible files from '/kaggle/input/grape400-dataset/BlackMeasles' successfully resized and copied to '/kaggle/working/data/Grape___black_measles'.\n",
      "All eligible files from '/kaggle/input/grape400-dataset/BlackRot' successfully resized and copied to '/kaggle/working/data/Grape___black_rot'.\n",
      "All eligible files from '/kaggle/input/grape400-dataset/HealthyGrapes' successfully resized and copied to '/kaggle/working/data/Grape___healthy'.\n",
      "All eligible files from '/kaggle/input/grape400-dataset/LeafBlight' successfully resized and copied to '/kaggle/working/data/Grape___leaf_blight'.\n"
     ]
    }
   ],
   "source": [
    "grape400_base = \"/kaggle/input/grape400-dataset\"\n",
    "grape400_map={\n",
    "    'BlackMeasles': 'Grape___black_measles', \n",
    "    'BlackRot': 'Grape___black_rot',\n",
    "    'HealthyGrapes': 'Grape___healthy',\n",
    "    'LeafBlight': 'Grape___leaf_blight',\n",
    "}\n",
    "for class_ in grape400_map.keys():\n",
    "    copy_files(f\"{grape400_base}/{class_}\", f\"{base_dir}/{grape400_map[class_]}\", index_file)"
   ]
  },
  {
   "cell_type": "markdown",
   "id": "d2f4a673",
   "metadata": {
    "papermill": {
     "duration": 0.016882,
     "end_time": "2024-09-16T15:53:24.356791",
     "exception": false,
     "start_time": "2024-09-16T15:53:24.339909",
     "status": "completed"
    },
    "tags": []
   },
   "source": [
    "## 10. Apple Tree Leaf Disease Dataset\n",
    "1. Apple___alternaria_leaf_spot\n",
    "2. Apple___brown_spot\n",
    "3. Apple___gray_spot\n",
    "4. Apple___healthy\n",
    "5. Apple___rust"
   ]
  },
  {
   "cell_type": "code",
   "execution_count": 21,
   "id": "2824c7b1",
   "metadata": {
    "execution": {
     "iopub.execute_input": "2024-09-16T15:53:24.393313Z",
     "iopub.status.busy": "2024-09-16T15:53:24.392911Z",
     "iopub.status.idle": "2024-09-16T15:53:41.471899Z",
     "shell.execute_reply": "2024-09-16T15:53:41.470112Z"
    },
    "papermill": {
     "duration": 17.100387,
     "end_time": "2024-09-16T15:53:41.474503",
     "exception": false,
     "start_time": "2024-09-16T15:53:24.374116",
     "status": "completed"
    },
    "tags": []
   },
   "outputs": [
    {
     "name": "stdout",
     "output_type": "stream",
     "text": [
      "All eligible files from '/kaggle/input/apple-tree-leaf-disease-dataset/Alternaria leaf spot' successfully resized and copied to '/kaggle/working/data/Apple___alternaria_leaf_spot'.\n",
      "All eligible files from '/kaggle/input/apple-tree-leaf-disease-dataset/Brown spot' successfully resized and copied to '/kaggle/working/data/Apple___brown_spot'.\n",
      "All eligible files from '/kaggle/input/apple-tree-leaf-disease-dataset/Gray spot' successfully resized and copied to '/kaggle/working/data/Apple___gray_spot'.\n",
      "All eligible files from '/kaggle/input/apple-tree-leaf-disease-dataset/Healthy leaf' successfully resized and copied to '/kaggle/working/data/Apple___healthy'.\n",
      "All eligible files from '/kaggle/input/apple-tree-leaf-disease-dataset/Rust' successfully resized and copied to '/kaggle/working/data/Apple___rust'.\n"
     ]
    }
   ],
   "source": [
    "apple_tree_leaf_base = \"/kaggle/input/apple-tree-leaf-disease-dataset\"\n",
    "apple_leaf_map={\n",
    "    'Alternaria leaf spot': 'Apple___alternaria_leaf_spot', \n",
    "    'Brown spot': 'Apple___brown_spot',\n",
    "    'Gray spot': 'Apple___gray_spot',\n",
    "    'Healthy leaf': 'Apple___healthy',\n",
    "    'Rust': 'Apple___rust'\n",
    "}\n",
    "for class_ in apple_leaf_map.keys():\n",
    "    copy_files(f\"{apple_tree_leaf_base}/{class_}\", f\"{base_dir}/{apple_leaf_map[class_]}\", index_file)"
   ]
  }
 ],
 "metadata": {
  "kaggle": {
   "accelerator": "none",
   "dataSources": [
    {
     "datasetId": 277323,
     "sourceId": 658267,
     "sourceType": "datasetVersion"
    },
    {
     "datasetId": 3751964,
     "sourceId": 6492302,
     "sourceType": "datasetVersion"
    },
    {
     "datasetId": 4245440,
     "sourceId": 7316033,
     "sourceType": "datasetVersion"
    },
    {
     "datasetId": 4280630,
     "sourceId": 7368147,
     "sourceType": "datasetVersion"
    },
    {
     "datasetId": 4320051,
     "sourceId": 7424766,
     "sourceType": "datasetVersion"
    },
    {
     "datasetId": 4325278,
     "sourceId": 7432568,
     "sourceType": "datasetVersion"
    },
    {
     "datasetId": 4330898,
     "sourceId": 7440986,
     "sourceType": "datasetVersion"
    },
    {
     "datasetId": 4280245,
     "sourceId": 7445029,
     "sourceType": "datasetVersion"
    },
    {
     "datasetId": 4207557,
     "sourceId": 7445098,
     "sourceType": "datasetVersion"
    },
    {
     "datasetId": 4335411,
     "sourceId": 7448166,
     "sourceType": "datasetVersion"
    }
   ],
   "dockerImageVersionId": 30626,
   "isGpuEnabled": false,
   "isInternetEnabled": true,
   "language": "python",
   "sourceType": "notebook"
  },
  "kernelspec": {
   "display_name": "Python 3",
   "language": "python",
   "name": "python3"
  },
  "language_info": {
   "codemirror_mode": {
    "name": "ipython",
    "version": 3
   },
   "file_extension": ".py",
   "mimetype": "text/x-python",
   "name": "python",
   "nbconvert_exporter": "python",
   "pygments_lexer": "ipython3",
   "version": "3.10.12"
  },
  "papermill": {
   "default_parameters": {},
   "duration": 1119.54599,
   "end_time": "2024-09-16T15:53:42.019215",
   "environment_variables": {},
   "exception": null,
   "input_path": "__notebook__.ipynb",
   "output_path": "__notebook__.ipynb",
   "parameters": {},
   "start_time": "2024-09-16T15:35:02.473225",
   "version": "2.4.0"
  }
 },
 "nbformat": 4,
 "nbformat_minor": 5
}
