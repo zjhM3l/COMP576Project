{
 "cells": [
  {
   "cell_type": "markdown",
   "id": "490c0a53",
   "metadata": {
    "papermill": {
     "duration": 0.006585,
     "end_time": "2024-01-15T12:53:53.774174",
     "exception": false,
     "start_time": "2024-01-15T12:53:53.767589",
     "status": "completed"
    },
    "tags": []
   },
   "source": [
    "# Open the dataset using ImageDataGenerator"
   ]
  },
  {
   "cell_type": "code",
   "execution_count": 1,
   "id": "cde593df",
   "metadata": {
    "execution": {
     "iopub.execute_input": "2024-01-15T12:53:53.787299Z",
     "iopub.status.busy": "2024-01-15T12:53:53.786928Z",
     "iopub.status.idle": "2024-01-15T12:54:13.987278Z",
     "shell.execute_reply": "2024-01-15T12:54:13.986410Z"
    },
    "papermill": {
     "duration": 20.209592,
     "end_time": "2024-01-15T12:54:13.989878",
     "exception": false,
     "start_time": "2024-01-15T12:53:53.780286",
     "status": "completed"
    },
    "tags": []
   },
   "outputs": [
    {
     "name": "stderr",
     "output_type": "stream",
     "text": [
      "/opt/conda/lib/python3.10/site-packages/scipy/__init__.py:146: UserWarning: A NumPy version >=1.16.5 and <1.23.0 is required for this version of SciPy (detected version 1.24.3\n",
      "  warnings.warn(f\"A NumPy version >={np_minversion} and <{np_maxversion}\"\n"
     ]
    }
   ],
   "source": [
    "import tensorflow as tf\n",
    "from tensorflow.keras.preprocessing.image import ImageDataGenerator"
   ]
  },
  {
   "cell_type": "code",
   "execution_count": 2,
   "id": "25abd102",
   "metadata": {
    "execution": {
     "iopub.execute_input": "2024-01-15T12:54:14.002645Z",
     "iopub.status.busy": "2024-01-15T12:54:14.002004Z",
     "iopub.status.idle": "2024-01-15T12:54:20.553102Z",
     "shell.execute_reply": "2024-01-15T12:54:20.552191Z"
    },
    "papermill": {
     "duration": 6.559844,
     "end_time": "2024-01-15T12:54:20.555432",
     "exception": false,
     "start_time": "2024-01-15T12:54:13.995588",
     "status": "completed"
    },
    "tags": []
   },
   "outputs": [
    {
     "name": "stdout",
     "output_type": "stream",
     "text": [
      "Found 4747 images belonging to 4 classes.\n",
      "Found 1185 images belonging to 4 classes.\n"
     ]
    }
   ],
   "source": [
    "main_path = '/kaggle/input/rice-leaf-disease-image'\n",
    "generator = ImageDataGenerator(rescale=1./255,\n",
    "                               validation_split=0.2)\n",
    "\n",
    "train_datagen = generator.flow_from_directory(main_path,\n",
    "                                              target_size=(224,224),\n",
    "                                              class_mode='categorical',\n",
    "                                              batch_size=32,\n",
    "                                              subset='training')\n",
    "\n",
    "valid_datagen = generator.flow_from_directory(main_path,\n",
    "                                              target_size=(224,224),\n",
    "                                              class_mode='categorical',\n",
    "                                              batch_size=16,\n",
    "                                              subset='validation')"
   ]
  },
  {
   "cell_type": "markdown",
   "id": "a9bc538b",
   "metadata": {
    "papermill": {
     "duration": 0.005633,
     "end_time": "2024-01-15T12:54:20.567052",
     "exception": false,
     "start_time": "2024-01-15T12:54:20.561419",
     "status": "completed"
    },
    "tags": []
   },
   "source": [
    "# Making model"
   ]
  },
  {
   "cell_type": "markdown",
   "id": "efda37d8",
   "metadata": {
    "papermill": {
     "duration": 0.005411,
     "end_time": "2024-01-15T12:54:20.578256",
     "exception": false,
     "start_time": "2024-01-15T12:54:20.572845",
     "status": "completed"
    },
    "tags": []
   },
   "source": [
    "## Making \"Block\" class to build custom set of layers"
   ]
  },
  {
   "cell_type": "code",
   "execution_count": 3,
   "id": "b97ed99d",
   "metadata": {
    "execution": {
     "iopub.execute_input": "2024-01-15T12:54:20.591016Z",
     "iopub.status.busy": "2024-01-15T12:54:20.590672Z",
     "iopub.status.idle": "2024-01-15T12:54:20.598654Z",
     "shell.execute_reply": "2024-01-15T12:54:20.597705Z"
    },
    "papermill": {
     "duration": 0.016562,
     "end_time": "2024-01-15T12:54:20.600530",
     "exception": false,
     "start_time": "2024-01-15T12:54:20.583968",
     "status": "completed"
    },
    "tags": []
   },
   "outputs": [],
   "source": [
    "class Block(tf.keras.Model):\n",
    "    \n",
    "    def __init__(self, filters, kernel_size, reps):\n",
    "        \n",
    "        super(Block, self).__init__()\n",
    "        self.filters = filters\n",
    "        self.kernel_size = kernel_size\n",
    "        self.reps = reps\n",
    "        \n",
    "        for i in range(0, self.reps):\n",
    "            vars(self)[f'conv2d_{i}'] = tf.keras.layers.Conv2D(filters, kernel_size, activation='relu')\n",
    "            \n",
    "        self.maxpooling2d = tf.keras.layers.MaxPooling2D(2, 2)\n",
    "        \n",
    "    def call(self, inputs):\n",
    "        \n",
    "        conv2d = vars(self)['conv2d_0']\n",
    "        x = conv2d(inputs)\n",
    "        \n",
    "        for i in range(1, self.reps):\n",
    "            conv2d_i = vars(self)[f'conv2d_{i}']\n",
    "            x = conv2d_i(x)\n",
    "        \n",
    "        maxpooling2d = self.maxpooling2d(x)\n",
    "        \n",
    "        return maxpooling2d"
   ]
  },
  {
   "cell_type": "markdown",
   "id": "36a35040",
   "metadata": {
    "papermill": {
     "duration": 0.005766,
     "end_time": "2024-01-15T12:54:20.612300",
     "exception": false,
     "start_time": "2024-01-15T12:54:20.606534",
     "status": "completed"
    },
    "tags": []
   },
   "source": [
    "## Implement the \"Block\" with functional API"
   ]
  },
  {
   "cell_type": "code",
   "execution_count": 4,
   "id": "b9d68cc8",
   "metadata": {
    "execution": {
     "iopub.execute_input": "2024-01-15T12:54:20.625132Z",
     "iopub.status.busy": "2024-01-15T12:54:20.624839Z",
     "iopub.status.idle": "2024-01-15T12:54:22.600326Z",
     "shell.execute_reply": "2024-01-15T12:54:22.599549Z"
    },
    "papermill": {
     "duration": 1.9843,
     "end_time": "2024-01-15T12:54:22.602681",
     "exception": false,
     "start_time": "2024-01-15T12:54:20.618381",
     "status": "completed"
    },
    "tags": []
   },
   "outputs": [],
   "source": [
    "inputs = tf.keras.Input((224,224,3))\n",
    "x = Block(64, 2, 1)(inputs)\n",
    "x = Block(128, 2, 1)(x)\n",
    "x = Block(256, 3, 1)(x)\n",
    "\n",
    "x = tf.keras.layers.Flatten()(x)\n",
    "x = tf.keras.layers.Dense(256, activation='relu')(x)\n",
    "x = tf.keras.layers.Dense(4, activation='softmax')(x)\n",
    "\n",
    "model = tf.keras.Model(inputs, x)"
   ]
  },
  {
   "cell_type": "markdown",
   "id": "ba1bac7b",
   "metadata": {
    "papermill": {
     "duration": 0.005196,
     "end_time": "2024-01-15T12:54:22.613823",
     "exception": false,
     "start_time": "2024-01-15T12:54:22.608627",
     "status": "completed"
    },
    "tags": []
   },
   "source": [
    "## Compile the model"
   ]
  },
  {
   "cell_type": "code",
   "execution_count": 5,
   "id": "351ce1e4",
   "metadata": {
    "execution": {
     "iopub.execute_input": "2024-01-15T12:54:22.626920Z",
     "iopub.status.busy": "2024-01-15T12:54:22.626176Z",
     "iopub.status.idle": "2024-01-15T12:54:22.646206Z",
     "shell.execute_reply": "2024-01-15T12:54:22.644927Z"
    },
    "papermill": {
     "duration": 0.030899,
     "end_time": "2024-01-15T12:54:22.650057",
     "exception": false,
     "start_time": "2024-01-15T12:54:22.619158",
     "status": "completed"
    },
    "tags": []
   },
   "outputs": [],
   "source": [
    "model.compile(loss='categorical_crossentropy',\n",
    "              optimizer='adam',\n",
    "              metrics=['accuracy'])"
   ]
  },
  {
   "cell_type": "markdown",
   "id": "f94c08e0",
   "metadata": {
    "papermill": {
     "duration": 0.007817,
     "end_time": "2024-01-15T12:54:22.665086",
     "exception": false,
     "start_time": "2024-01-15T12:54:22.657269",
     "status": "completed"
    },
    "tags": []
   },
   "source": [
    "# Build callback class"
   ]
  },
  {
   "cell_type": "code",
   "execution_count": 6,
   "id": "40c0b78e",
   "metadata": {
    "execution": {
     "iopub.execute_input": "2024-01-15T12:54:22.679708Z",
     "iopub.status.busy": "2024-01-15T12:54:22.678969Z",
     "iopub.status.idle": "2024-01-15T12:54:22.685096Z",
     "shell.execute_reply": "2024-01-15T12:54:22.684152Z"
    },
    "papermill": {
     "duration": 0.0187,
     "end_time": "2024-01-15T12:54:22.690278",
     "exception": false,
     "start_time": "2024-01-15T12:54:22.671578",
     "status": "completed"
    },
    "tags": []
   },
   "outputs": [],
   "source": [
    "class myCallback(tf.keras.callbacks.Callback):\n",
    "    \n",
    "    def on_epoch_end(self, epoch, logs={}):\n",
    "        if logs.get('val_accuracy') > 0.95:\n",
    "            self.model.stop_training = True"
   ]
  },
  {
   "cell_type": "markdown",
   "id": "b118de91",
   "metadata": {
    "papermill": {
     "duration": 0.006565,
     "end_time": "2024-01-15T12:54:22.705574",
     "exception": false,
     "start_time": "2024-01-15T12:54:22.699009",
     "status": "completed"
    },
    "tags": []
   },
   "source": [
    "# Train the model"
   ]
  },
  {
   "cell_type": "code",
   "execution_count": 7,
   "id": "44bc7dd8",
   "metadata": {
    "execution": {
     "iopub.execute_input": "2024-01-15T12:54:22.718549Z",
     "iopub.status.busy": "2024-01-15T12:54:22.717885Z",
     "iopub.status.idle": "2024-01-15T12:58:21.543743Z",
     "shell.execute_reply": "2024-01-15T12:58:21.542632Z"
    },
    "papermill": {
     "duration": 238.834756,
     "end_time": "2024-01-15T12:58:21.546057",
     "exception": false,
     "start_time": "2024-01-15T12:54:22.711301",
     "status": "completed"
    },
    "tags": []
   },
   "outputs": [
    {
     "name": "stdout",
     "output_type": "stream",
     "text": [
      "Epoch 1/200\n",
      "149/149 [==============================] - 50s 305ms/step - loss: 1.4698 - accuracy: 0.5652 - val_loss: 1.1701 - val_accuracy: 0.5122\n",
      "Epoch 2/200\n",
      "149/149 [==============================] - 18s 122ms/step - loss: 0.7554 - accuracy: 0.7049 - val_loss: 0.6747 - val_accuracy: 0.7418\n",
      "Epoch 3/200\n",
      "149/149 [==============================] - 20s 133ms/step - loss: 0.5619 - accuracy: 0.8028 - val_loss: 0.5111 - val_accuracy: 0.8295\n",
      "Epoch 4/200\n",
      "149/149 [==============================] - 19s 127ms/step - loss: 0.4585 - accuracy: 0.8464 - val_loss: 0.4565 - val_accuracy: 0.8633\n",
      "Epoch 5/200\n",
      "149/149 [==============================] - 19s 125ms/step - loss: 0.3727 - accuracy: 0.8793 - val_loss: 0.6439 - val_accuracy: 0.7485\n",
      "Epoch 6/200\n",
      "149/149 [==============================] - 19s 124ms/step - loss: 0.3087 - accuracy: 0.9044 - val_loss: 0.3881 - val_accuracy: 0.8608\n",
      "Epoch 7/200\n",
      "149/149 [==============================] - 18s 121ms/step - loss: 0.2695 - accuracy: 0.9124 - val_loss: 0.2938 - val_accuracy: 0.9139\n",
      "Epoch 8/200\n",
      "149/149 [==============================] - 20s 135ms/step - loss: 0.1873 - accuracy: 0.9515 - val_loss: 0.2374 - val_accuracy: 0.9257\n",
      "Epoch 9/200\n",
      "149/149 [==============================] - 18s 123ms/step - loss: 0.1578 - accuracy: 0.9600 - val_loss: 0.4304 - val_accuracy: 0.8447\n",
      "Epoch 10/200\n",
      "149/149 [==============================] - 18s 123ms/step - loss: 0.1843 - accuracy: 0.9414 - val_loss: 0.2642 - val_accuracy: 0.9030\n",
      "Epoch 11/200\n",
      "149/149 [==============================] - 19s 125ms/step - loss: 0.1131 - accuracy: 0.9724 - val_loss: 0.1876 - val_accuracy: 0.9527\n"
     ]
    }
   ],
   "source": [
    "callback = myCallback()\n",
    "history = model.fit(train_datagen,\n",
    "          epochs=200,\n",
    "          validation_data=valid_datagen,\n",
    "          callbacks=callback)"
   ]
  },
  {
   "cell_type": "markdown",
   "id": "67b0bfce",
   "metadata": {
    "papermill": {
     "duration": 0.14091,
     "end_time": "2024-01-15T12:58:21.835232",
     "exception": false,
     "start_time": "2024-01-15T12:58:21.694322",
     "status": "completed"
    },
    "tags": []
   },
   "source": [
    "# Training result / history plotting"
   ]
  },
  {
   "cell_type": "code",
   "execution_count": 8,
   "id": "8baba4c1",
   "metadata": {
    "execution": {
     "iopub.execute_input": "2024-01-15T12:58:22.113774Z",
     "iopub.status.busy": "2024-01-15T12:58:22.112810Z",
     "iopub.status.idle": "2024-01-15T12:58:22.117611Z",
     "shell.execute_reply": "2024-01-15T12:58:22.116744Z"
    },
    "papermill": {
     "duration": 0.146442,
     "end_time": "2024-01-15T12:58:22.119627",
     "exception": false,
     "start_time": "2024-01-15T12:58:21.973185",
     "status": "completed"
    },
    "tags": []
   },
   "outputs": [],
   "source": [
    "import matplotlib.pyplot as plt"
   ]
  },
  {
   "cell_type": "code",
   "execution_count": 9,
   "id": "ac71d3d4",
   "metadata": {
    "execution": {
     "iopub.execute_input": "2024-01-15T12:58:22.419877Z",
     "iopub.status.busy": "2024-01-15T12:58:22.418882Z",
     "iopub.status.idle": "2024-01-15T12:58:23.213834Z",
     "shell.execute_reply": "2024-01-15T12:58:23.212854Z"
    },
    "papermill": {
     "duration": 0.944837,
     "end_time": "2024-01-15T12:58:23.216227",
     "exception": false,
     "start_time": "2024-01-15T12:58:22.271390",
     "status": "completed"
    },
    "tags": []
   },
   "outputs": [
    {
     "data": {
      "image/png": "[encoded data removed]",
      "text/plain": [
       "<Figure size 640x480 with 1 Axes>"
      ]
     },
     "metadata": {},
     "output_type": "display_data"
    },
    {
     "data": {
      "image/png": "[encoded data removed]",
      "text/plain": [
       "<Figure size 640x480 with 1 Axes>"
      ]
     },
     "metadata": {},
     "output_type": "display_data"
    }
   ],
   "source": [
    "acc_loss = [['accuracy', 'val_accuracy'],\n",
    "            ['loss', 'val_loss']]\n",
    "\n",
    "for i in acc_loss:\n",
    "    \n",
    "    plt.plot(history.history[i[0]], 'g-o')\n",
    "    plt.plot(history.history[i[1]], 'b-+')\n",
    "    plt.title(f'model {i[0]} and {i[1]}')\n",
    "    plt.ylabel(f'{i[0]}')\n",
    "    plt.xlabel('epoch')\n",
    "    plt.legend(['train', 'valid'], loc='upper left')\n",
    "    plt.show()\n",
    "    "
   ]
  },
  {
   "cell_type": "markdown",
   "id": "ebb238e1",
   "metadata": {
    "papermill": {
     "duration": 0.146177,
     "end_time": "2024-01-15T12:58:23.508168",
     "exception": false,
     "start_time": "2024-01-15T12:58:23.361991",
     "status": "completed"
    },
    "tags": []
   },
   "source": [
    "# Evaluate the model using training datagen"
   ]
  },
  {
   "cell_type": "code",
   "execution_count": 10,
   "id": "80d8f9f1",
   "metadata": {
    "execution": {
     "iopub.execute_input": "2024-01-15T12:58:23.801669Z",
     "iopub.status.busy": "2024-01-15T12:58:23.801286Z",
     "iopub.status.idle": "2024-01-15T12:58:39.216435Z",
     "shell.execute_reply": "2024-01-15T12:58:39.215483Z"
    },
    "papermill": {
     "duration": 15.56312,
     "end_time": "2024-01-15T12:58:39.218801",
     "exception": false,
     "start_time": "2024-01-15T12:58:23.655681",
     "status": "completed"
    },
    "tags": []
   },
   "outputs": [
    {
     "name": "stdout",
     "output_type": "stream",
     "text": [
      "149/149 [==============================] - 15s 102ms/step - loss: 0.0817 - accuracy: 0.9897\n"
     ]
    },
    {
     "data": {
      "text/plain": [
       "[0.0817275121808052, 0.9896776676177979]"
      ]
     },
     "execution_count": 10,
     "metadata": {},
     "output_type": "execute_result"
    }
   ],
   "source": [
    "model.evaluate(train_datagen)"
   ]
  }
 ],
 "metadata": {
  "kaggle": {
   "accelerator": "nvidiaTeslaT4",
   "dataSources": [
    {
     "datasetId": 4245440,
     "sourceId": 7316033,
     "sourceType": "datasetVersion"
    }
   ],
   "dockerImageVersionId": 30636,
   "isGpuEnabled": true,
   "isInternetEnabled": true,
   "language": "python",
   "sourceType": "notebook"
  },
  "kernelspec": {
   "display_name": "Python 3",
   "language": "python",
   "name": "python3"
  },
  "language_info": {
   "codemirror_mode": {
    "name": "ipython",
    "version": 3
   },
   "file_extension": ".py",
   "mimetype": "text/x-python",
   "name": "python",
   "nbconvert_exporter": "python",
   "pygments_lexer": "ipython3",
   "version": "3.10.12"
  },
  "papermill": {
   "default_parameters": {},
   "duration": 293.579003,
   "end_time": "2024-01-15T12:58:42.625257",
   "environment_variables": {},
   "exception": null,
   "input_path": "__notebook__.ipynb",
   "output_path": "__notebook__.ipynb",
   "parameters": {},
   "start_time": "2024-01-15T12:53:49.046254",
   "version": "2.4.0"
  }
 },
 "nbformat": 4,
 "nbformat_minor": 5
}
